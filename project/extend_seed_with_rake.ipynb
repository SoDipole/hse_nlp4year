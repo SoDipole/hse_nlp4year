{
 "cells": [
  {
   "cell_type": "markdown",
   "metadata": {},
   "source": [
    "## RAKE\n",
    "С помощью алгоритма RAKE можно найти наиболее вероятные ключевые слова и словосочетания в каждом отдельном тексте, безотносительно ко всей коллекции документов. \n",
    "Идея состоит в том, чтобы найти самые частотные кандитаты в ключевые словосочетания (2 или больше слов) по всей коллекции текстов копуса твитов для sentiment-анализа. Мы предполагаем, что наиболее частотные ключевые словосочетания скорее всего будут оценочными из-за специфики корпуса (эмоционально окрашенные тексты с положительной или отрицательной поляности). \n",
    "В итоге было решено оставить в итоговом списке только те словосочетания, которые входят в 1000 наиболее частотных и содержат хотя бы одно слово из уже собранного нами списка однословной оценочной лексики. "
   ]
  },
  {
   "cell_type": "code",
   "execution_count": 1,
   "metadata": {
    "collapsed": true
   },
   "outputs": [],
   "source": [
    "import RAKE"
   ]
  },
  {
   "cell_type": "code",
   "execution_count": 3,
   "metadata": {
    "collapsed": true
   },
   "outputs": [],
   "source": [
    "import json"
   ]
  },
  {
   "cell_type": "code",
   "execution_count": 7,
   "metadata": {
    "collapsed": true
   },
   "outputs": [],
   "source": [
    "import numpy as np\n",
    "import pandas as pd"
   ]
  },
  {
   "cell_type": "code",
   "execution_count": 18,
   "metadata": {
    "collapsed": true
   },
   "outputs": [],
   "source": [
    "import regex as re"
   ]
  },
  {
   "cell_type": "code",
   "execution_count": 22,
   "metadata": {},
   "outputs": [],
   "source": [
    "from preprocessing import tokenize, remove_nickname_, lemmatize_pos_tag"
   ]
  },
  {
   "cell_type": "code",
   "execution_count": 41,
   "metadata": {
    "collapsed": true
   },
   "outputs": [],
   "source": [
    "from collections import Counter"
   ]
  },
  {
   "cell_type": "code",
   "execution_count": 4,
   "metadata": {
    "collapsed": true
   },
   "outputs": [],
   "source": [
    "with open('stop_words.json') as file:\n",
    "        stop_words = json.load(file)"
   ]
  },
  {
   "cell_type": "code",
   "execution_count": 56,
   "metadata": {
    "collapsed": true
   },
   "outputs": [],
   "source": [
    "good_seed_tokens = [\n",
    " ['вежливый_ADJ'],\n",
    " ['великолепный_ADJ'],\n",
    " ['вкусный_ADJ'],\n",
    " ['внимательный_ADJ'],\n",
    " ['вау_NOUN'],\n",
    " ['неплохой_ADJ'],\n",
    " ['идеальный_ADJ'],\n",
    " ['неприятный_ADJ'],\n",
    " ['понравиться_VERB'],\n",
    " ['рекомендовать_VERB'],\n",
    " ['ура_PART'],\n",
    " ['советовать_VERB'],\n",
    " ['отвратительный_ADJ'],\n",
    " ['отличный_ADJ'],\n",
    " ['положительный_ADJ'],\n",
    " ['отрицательный_ADJ'],\n",
    " ['приятный_ADJ'],\n",
    " ['спасибо_NOUN'],\n",
    " ['радовать_VERB'],\n",
    " ['молодец_NOUN'],\n",
    " ['улыбаться_VERB'],\n",
    " ['приветливый_ADJ'],\n",
    " ['отличный_ADJ'],\n",
    " ['замечательный_ADJ']]"
   ]
  },
  {
   "cell_type": "code",
   "execution_count": 11,
   "metadata": {},
   "outputs": [],
   "source": [
    "neg = pd.read_csv('negative.csv', sep = ';', header=None)\n",
    "pos =  pd.read_csv('positive.csv', sep = ';', header=None)"
   ]
  },
  {
   "cell_type": "code",
   "execution_count": 16,
   "metadata": {
    "collapsed": true
   },
   "outputs": [],
   "source": [
    "strip_characters = '`«»‰~@\\'▲▼„\"#$%^&*()_+=[]\\{\\}°|•<>'"
   ]
  },
  {
   "cell_type": "code",
   "execution_count": 25,
   "metadata": {
    "collapsed": true
   },
   "outputs": [],
   "source": [
    "# лемматизируем сами слова, но оставляем знаки препинания\n",
    "def lemmatize_only(text):\n",
    "    text = text.lower()\n",
    "    text = remove_nickname_(text)\n",
    "    words = re.findall('[а-яёА-ЯЁ]+', text)\n",
    "    words = set(words)\n",
    "    for word in words:\n",
    "        text = text.replace(word, lemmatize_pos_tag(word, need_pos=False))\n",
    "    return text"
   ]
  },
  {
   "cell_type": "code",
   "execution_count": 27,
   "metadata": {},
   "outputs": [],
   "source": [
    "texts = []\n",
    "for corp in [neg, pos]:\n",
    "    for row in corp[3]:\n",
    "        texts.append(lemmatize_only(row))"
   ]
  },
  {
   "cell_type": "code",
   "execution_count": 29,
   "metadata": {
    "scrolled": true
   },
   "outputs": [],
   "source": [
    "Rake = RAKE.Rake(stop_words)"
   ]
  },
  {
   "cell_type": "code",
   "execution_count": 31,
   "metadata": {
    "collapsed": true
   },
   "outputs": [],
   "source": [
    "res = Rake.run(texts[10], maxWords = 4)"
   ]
  },
  {
   "cell_type": "code",
   "execution_count": 34,
   "metadata": {},
   "outputs": [
    {
     "data": {
      "text/plain": [
       "[('хоть знать', 4.0),\n",
       " ('ебать', 1.0),\n",
       " ('фотка', 1.0),\n",
       " ('про', 1.0),\n",
       " ('молчать', 1.0),\n",
       " ('вообще', 1.0),\n",
       " ('тп', 1.0),\n",
       " ('выглядеть', 1.0)]"
      ]
     },
     "execution_count": 34,
     "metadata": {},
     "output_type": "execute_result"
    }
   ],
   "source": [
    "res"
   ]
  },
  {
   "cell_type": "code",
   "execution_count": 40,
   "metadata": {
    "collapsed": true
   },
   "outputs": [],
   "source": [
    "results = []\n",
    "for text in texts:\n",
    "    res = Rake.run(text, maxWords = 4)\n",
    "    results.extend([i[0] for i in res[:3]])"
   ]
  },
  {
   "cell_type": "code",
   "execution_count": 48,
   "metadata": {
    "collapsed": true
   },
   "outputs": [],
   "source": [
    "results_clean = []\n",
    "for i in results:\n",
    "    if re.findall('[а-я]+', i) != []:\n",
    "        results_clean.append(i)"
   ]
  },
  {
   "cell_type": "code",
   "execution_count": 49,
   "metadata": {
    "collapsed": true
   },
   "outputs": [],
   "source": [
    "cnt = Counter(results_clean)"
   ]
  },
  {
   "cell_type": "code",
   "execution_count": 50,
   "metadata": {
    "collapsed": true
   },
   "outputs": [],
   "source": [
    "results_multiword = [i for i in results_clean if ' ' in i]"
   ]
  },
  {
   "cell_type": "code",
   "execution_count": 51,
   "metadata": {
    "collapsed": true
   },
   "outputs": [],
   "source": [
    "cnt_multiword = Counter(results_multiword)"
   ]
  },
  {
   "cell_type": "code",
   "execution_count": 52,
   "metadata": {
    "scrolled": true
   },
   "outputs": [
    {
     "data": {
      "text/plain": [
       "[('быть', 3471),\n",
       " ('знать', 2704),\n",
       " ('хотеть', 1987),\n",
       " ('блин', 1862),\n",
       " ('еще', 1853),\n",
       " ('нет', 1715),\n",
       " ('спасибо', 1464),\n",
       " ('понимать', 1397),\n",
       " ('если', 1394),\n",
       " ('думать', 1332),\n",
       " ('любить', 1318),\n",
       " ('сегодня', 1251),\n",
       " ('хорошо', 1142),\n",
       " ('тоже', 1053),\n",
       " ('мочь', 1018),\n",
       " ('ахах', 990),\n",
       " ('вообще', 935),\n",
       " ('говорить', 920),\n",
       " ('уже', 893),\n",
       " ('сказать', 875),\n",
       " ('новый год', 833),\n",
       " ('делать', 810),\n",
       " ('завтра', 796),\n",
       " ('школа', 757),\n",
       " ('день', 746),\n",
       " ('добрый утро', 738),\n",
       " ('сидеть', 730),\n",
       " ('смотреть', 714),\n",
       " ('день рождение', 712),\n",
       " ('человек', 708),\n",
       " ('надо', 663),\n",
       " ('бля', 659),\n",
       " ('ахи', 655),\n",
       " ('жаль', 592),\n",
       " ('писать', 587),\n",
       " ('кажется', 579),\n",
       " ('видеть', 577),\n",
       " ('пойти', 563),\n",
       " ('плохо', 558),\n",
       " ('спать', 556),\n",
       " ('скучать', 547),\n",
       " ('привет', 540),\n",
       " ('приходить', 538),\n",
       " ('дело', 538),\n",
       " ('надеяться', 527),\n",
       " ('давать', 524),\n",
       " ('нравиться', 522),\n",
       " ('идти', 498),\n",
       " ('жизнь', 493),\n",
       " ('больше', 485),\n",
       " ('друг', 483),\n",
       " ('ага', 475),\n",
       " ('сделать', 456),\n",
       " ('написать', 455),\n",
       " ('хороший', 444),\n",
       " ('может', 436),\n",
       " ('получаться', 435),\n",
       " ('кстати', 430),\n",
       " ('мама', 429),\n",
       " ('конечно', 429),\n",
       " ('раз', 420),\n",
       " ('ждать', 420),\n",
       " ('скоро', 420),\n",
       " ('находить', 419),\n",
       " ('работа', 418),\n",
       " ('ой', 418),\n",
       " ('хоть', 417),\n",
       " ('помнить', 409),\n",
       " ('эх', 406),\n",
       " ('че', 405),\n",
       " ('забывать', 400),\n",
       " ('время', 399),\n",
       " ('очень', 398),\n",
       " ('прощать', 398),\n",
       " ('посмотреть', 381),\n",
       " ('хотеться', 378),\n",
       " ('опять', 378),\n",
       " ('утро', 377),\n",
       " ('правда', 370),\n",
       " ('дома', 367),\n",
       " ('ехать', 367),\n",
       " ('настроение', 366),\n",
       " ('болеть', 360),\n",
       " ('чувствовать', 355),\n",
       " ('просыпаться', 355),\n",
       " ('ахахах', 341),\n",
       " ('приезжать', 337),\n",
       " ('ох', 334),\n",
       " ('интересно', 332),\n",
       " ('боже', 325),\n",
       " ('давно', 324),\n",
       " ('читать', 322),\n",
       " ('со', 318),\n",
       " ('чувство', 313),\n",
       " ('ааа', 307),\n",
       " ('работать', 306),\n",
       " ('выходить', 305),\n",
       " ('поздравлять', 300),\n",
       " ('любимый', 298),\n",
       " ('ночь', 298)]"
      ]
     },
     "execution_count": 52,
     "metadata": {},
     "output_type": "execute_result"
    }
   ],
   "source": [
    "cnt.most_common(100)"
   ]
  },
  {
   "cell_type": "code",
   "execution_count": 53,
   "metadata": {
    "scrolled": true
   },
   "outputs": [
    {
     "data": {
      "text/plain": [
       "[('новый год', 833),\n",
       " ('добрый утро', 738),\n",
       " ('день рождение', 712),\n",
       " ('быть хорошо', 257),\n",
       " ('спокойный ночь', 257),\n",
       " ('#євромайдан http', 215),\n",
       " ('хотеть спать', 205),\n",
       " ('может быть', 202),\n",
       " ('последний время', 190),\n",
       " ('первый раз', 177),\n",
       " ('надо быть', 169),\n",
       " ('тоже хотеть', 158),\n",
       " ('идиот целый день', 156),\n",
       " ('офигенныйй день', 156),\n",
       " ('день позитив', 156),\n",
       " ('новогодний настроение', 155),\n",
       " ('быть скучать', 147),\n",
       " ('ложиться спать', 145),\n",
       " ('хороший настроение', 143),\n",
       " ('приходить домой', 138),\n",
       " ('хороший день', 137),\n",
       " ('если честно', 136),\n",
       " ('очень плохо', 130),\n",
       " ('голова болеть', 129),\n",
       " ('очень жаль', 128),\n",
       " ('сладкий сон', 124),\n",
       " ('спасибо большой', 123),\n",
       " ('нужный ли', 112),\n",
       " ('новое год', 109),\n",
       " ('скоро новый год', 106),\n",
       " ('ненавидеть пробка ретвлять', 105),\n",
       " ('быть весело', 99),\n",
       " ('дед мороз', 98),\n",
       " ('сидеть дома', 95),\n",
       " ('можно быть', 93),\n",
       " ('мочь уснуть', 90),\n",
       " ('жизнь боль', 90),\n",
       " ('очень любить', 90),\n",
       " ('очень скучать', 87),\n",
       " ('хотеть домой', 87),\n",
       " ('быть счастливый', 87),\n",
       " ('спать хотеть', 86),\n",
       " ('быть делать', 84),\n",
       " ('целый день', 84),\n",
       " ('мама сказать', 84),\n",
       " ('любить зима', 83),\n",
       " ('очень нравиться', 81),\n",
       " ('очень хотеть', 79),\n",
       " ('пойти спать', 78),\n",
       " ('хотеть быть', 77),\n",
       " ('быть круто', 77),\n",
       " ('уже скучать', 76),\n",
       " ('слава бог', 76),\n",
       " ('мочь понимать', 75),\n",
       " ('украшать елка', 75),\n",
       " ('очень рад', 74),\n",
       " ('мочь находить', 74),\n",
       " ('хороший друг', 74),\n",
       " ('co/gmelsgmiuw толя еще быть', 74),\n",
       " ('официальный трейлер', 74),\n",
       " ('сегодня быть', 73),\n",
       " ('очень приятно', 73),\n",
       " ('обращать внимание', 73),\n",
       " ('хотеть обратно', 72),\n",
       " ('ехать домой', 72),\n",
       " ('черный рамка', 71),\n",
       " ('крайний мера', 70),\n",
       " ('хорошо быть', 69),\n",
       " ('добрый ночь', 69),\n",
       " ('отличный настроение', 68),\n",
       " ('еще раз', 68),\n",
       " ('отличный день', 68),\n",
       " ('подымать настроение', 67),\n",
       " ('смотреть фильм', 66),\n",
       " ('утро начинаться', 66),\n",
       " ('быть человек', 64),\n",
       " ('горло болеть', 64),\n",
       " ('первый пара', 64),\n",
       " ('ум сходить', 63),\n",
       " ('быть ждать', 63),\n",
       " ('должно быть', 62),\n",
       " ('мочь сказать', 61),\n",
       " ('выздоравливать скоро', 61),\n",
       " ('неловкий момент', 60),\n",
       " ('последний день', 60),\n",
       " ('добрый вечер', 60),\n",
       " ('хотеть идти', 59),\n",
       " ('человек нос разблокировать телефон', 59),\n",
       " ('добрый день', 58),\n",
       " ('прошлое год', 58),\n",
       " ('очень понравиться', 58),\n",
       " ('пойти гулять', 57),\n",
       " ('давать бог', 57),\n",
       " ('последний раз', 56),\n",
       " ('слушать музыка', 56),\n",
       " ('вряд ли', 56),\n",
       " ('загадывать желание', 56),\n",
       " ('тяжелый день-', 56),\n",
       " ('хотеть сказать', 55),\n",
       " ('уже быть', 55)]"
      ]
     },
     "execution_count": 53,
     "metadata": {},
     "output_type": "execute_result"
    }
   ],
   "source": [
    "cnt_multiword.most_common(100)"
   ]
  },
  {
   "cell_type": "code",
   "execution_count": 55,
   "metadata": {},
   "outputs": [],
   "source": [
    "with open('w2v_all _clean.txt') as file:\n",
    "    senti_words = [i.strip() for i in file.readlines()]"
   ]
  },
  {
   "cell_type": "code",
   "execution_count": 58,
   "metadata": {},
   "outputs": [],
   "source": [
    "senti_words.extend([i.split('_')[0] for sublist in good_seed_tokens for i in sublist])"
   ]
  },
  {
   "cell_type": "code",
   "execution_count": 60,
   "metadata": {
    "collapsed": true
   },
   "outputs": [],
   "source": [
    "very_best_keywords = []\n",
    "for i in cnt_multiword.most_common(1000):\n",
    "    for word in senti_words:\n",
    "        if word in i[0]:\n",
    "            very_best_keywords.append(i[0])"
   ]
  },
  {
   "cell_type": "code",
   "execution_count": null,
   "metadata": {
    "collapsed": true
   },
   "outputs": [],
   "source": [
    "with open('result_rake_multiword.txt', 'w') as file:\n",
    "    file.write(' '.join(set(very_best_keywords)))"
   ]
  }
 ],
 "metadata": {
  "kernelspec": {
   "display_name": "Python 3",
   "language": "python",
   "name": "python3"
  },
  "language_info": {
   "codemirror_mode": {
    "name": "ipython",
    "version": 3
   },
   "file_extension": ".py",
   "mimetype": "text/x-python",
   "name": "python",
   "nbconvert_exporter": "python",
   "pygments_lexer": "ipython3",
   "version": "3.6.3"
  }
 },
 "nbformat": 4,
 "nbformat_minor": 2
}
