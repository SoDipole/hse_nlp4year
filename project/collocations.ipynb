{
 "cells": [
  {
   "cell_type": "code",
   "execution_count": 3,
   "metadata": {},
   "outputs": [],
   "source": [
    "import collections\n",
    "import nltk.collocations\n",
    "from bs4 import BeautifulSoup\n",
    "\n",
    "from preprocessing import tokenize"
   ]
  },
  {
   "cell_type": "code",
   "execution_count": 4,
   "metadata": {},
   "outputs": [
    {
     "name": "stdout",
     "output_type": "stream",
     "text": [
      "И пускай на меня не обижается наш прославленный защитник - франкофон «Монреаль Канадиенс» Maxime – я всегда с некоторой опаской относился к этому народу. Народу способному с таким благоговением доводить до цирроза всю пернатую живность, заставлять специальных поисковых свиней копошиться в грязи в поисках сумчатых грибов, ковыряться в тине, собирая брюхоногих и двустворчатых. Народу, подсадившего все население земного шара на муть, именуемое «Божоле Нуво», на сыры с плесенью и на квакающих жаб, скачущих по болотам. Тем не менее, единожды заглянув, не мог успокоиться, пока не вкусил большую часть меню. Не буду вдаваться в детали «вкусно-невкусно», а приведу турнирную таблицу, коли начали с хоккея. 1.Петух, запеченный в сливках, с картофелем и грибами. Почему петух, а не курица? Различать еще не научился. 2.Домашний пирог. Яблочный. Горячий. Тающий. 3.Говядина по-бургунски. Кускус неожиданный. 4.Террин из печени цыпленка. Массивная порция. 5.Утиная ножка «Конфи» с картофельным пюре. Мягко 6.Пенне с артишоками. Много чеснока. Я люблю, но если дышать потом на кого-нибудь, может случиться казус. 7.Ростбиф с маринованным луком. 8.Лягушка. На вкус смесь птицы и рыбы. Овощное сате на гарнир. 9.Улитки «Эскарго». Просто в масле мне нравятся больше. 10.Гребешки со спаржей. Горячее блюдо. Весьма диетично. 11.Гребешки с грушей. Горячая закуска. Рядом просто листья салата. 12.Теплый салат с говядиной. Рядом просто листья салата. 13.Тирамису. Качественный уровень соблюден. 14.Домашний пирог. Черничный. Холодный. Слишком холодный творог в основном. Плюс, другие приятности. Приятный грейпфрутовый «фреш», приятный зеленый чай «Земляника со сливками», приятная тертая клубника комплиментом – всегда и приятный глинтвейн – не всегда. Один раз зажали. По интерьеру комментария два. А нельзя было по краям кабинки-диванчики сварганить для уюта? Одного милого столика справа от входа маловато. Помывочная с белыми дверями. Почему? Выбивается из стиля. В остальном мой типаж. Музыка мягкая. Панели нет! Сервис с улыбкой. Шероховатости в пределах нормы и незначительны. Один раз приборы забыли принести, ну и глинтвейн зажали, это я уже говорил. Человек к хорошему быстро привыкает…\n"
     ]
    }
   ],
   "source": [
    "with open(\"SentiRuEval_rest_train.xml\", encoding = \"utf-8\") as f:\n",
    "    soup = BeautifulSoup(f, \"lxml\")\n",
    "\n",
    "reviews = []\n",
    "for review in soup.find_all(\"review\"):\n",
    "    text = review.find(\"text\").text\n",
    "    reviews.append(text)"
   ]
  },
  {
   "cell_type": "code",
   "execution_count": null,
   "metadata": {},
   "outputs": [],
   "source": [
    "print(reviews[0])"
   ]
  },
  {
   "cell_type": "code",
   "execution_count": null,
   "metadata": {},
   "outputs": [],
   "source": [
    "for i in range(len(reviews)):\n",
    "    reviews[i] = tokenize(reviews[i], need_pos = False)"
   ]
  },
  {
   "cell_type": "code",
   "execution_count": null,
   "metadata": {},
   "outputs": [],
   "source": [
    "print(reviews[0])"
   ]
  },
  {
   "cell_type": "code",
   "execution_count": null,
   "metadata": {},
   "outputs": [],
   "source": [
    "# Group bigrams by first word in bigram.                                        \n",
    "prefix_keys = collections.defaultdict(list)\n",
    "for key, scores in scored:\n",
    "   prefix_keys[key[0]].append((key[1], scores))\n",
    "\n",
    "# Sort keyed bigrams by strongest association.                                  \n",
    "for key in prefix_keys:\n",
    "   prefix_keys[key].sort(key = lambda x: -x[1])bgm    = nltk.collocations.BigramAssocMeasures()\n",
    "finder = nltk.collocations.BigramCollocationFinder.from_documents(reviews)\n",
    "scored = finder.score_ngrams( bgm.likelihood_ratio  )"
   ]
  },
  {
   "cell_type": "code",
   "execution_count": null,
   "metadata": {},
   "outputs": [],
   "source": []
  }
 ],
 "metadata": {
  "kernelspec": {
   "display_name": "Python 3",
   "language": "python",
   "name": "python3"
  },
  "language_info": {
   "codemirror_mode": {
    "name": "ipython",
    "version": 3
   },
   "file_extension": ".py",
   "mimetype": "text/x-python",
   "name": "python",
   "nbconvert_exporter": "python",
   "pygments_lexer": "ipython3",
   "version": "3.5.3"
  }
 },
 "nbformat": 4,
 "nbformat_minor": 2
}
