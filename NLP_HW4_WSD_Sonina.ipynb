{
 "cells": [
  {
   "cell_type": "code",
   "execution_count": 26,
   "metadata": {},
   "outputs": [
    {
     "name": "stdout",
     "output_type": "stream",
     "text": [
      "[nltk_data] Downloading package wordnet_ic to\n",
      "[nltk_data]     C:\\Users\\SoDipole\\AppData\\Roaming\\nltk_data...\n",
      "[nltk_data]   Unzipping corpora\\wordnet_ic.zip.\n"
     ]
    }
   ],
   "source": [
    "import nltk\n",
    "\n",
    "#nltk.download(\"wordnet\")\n",
    "#nltk.download(\"wordnet_ic\")\n",
    "    \n",
    "from nltk.corpus import wordnet"
   ]
  },
  {
   "cell_type": "markdown",
   "metadata": {},
   "source": [
    "<b>1) Найти все значения (синсеты) для лексемы right<b>"
   ]
  },
  {
   "cell_type": "code",
   "execution_count": 9,
   "metadata": {},
   "outputs": [
    {
     "name": "stdout",
     "output_type": "stream",
     "text": [
      "Synset('right.n.01') an abstract idea of that which is due to a person or governmental body by law or tradition or nature; it is something that nobody can take away\"\n",
      "Synset('right.n.02') location near or direction toward the right side; i.e. the side to the south when a person or object faces east\n",
      "Synset('right_field.n.01') the piece of ground in the outfield on the catcher's right\n",
      "Synset('right.n.04') those who support political or social or economic conservatism; those who believe that things are better left unchanged\n",
      "Synset('right.n.05') the hand that is on the right side of the body\n",
      "Synset('right.n.06') a turn toward the side of the body that is on the south when the person is facing east\n",
      "Synset('right.n.07') anything in accord with principles of justice\n",
      "Synset('right.n.08') (frequently plural) the interest possessed by law or custom in some intangible thing\n",
      "Synset('right.v.01') make reparations or amends for\n",
      "Synset('right.v.02') put in or restore to an upright position\n",
      "Synset('right.v.03') regain an upright or proper position\n",
      "Synset('correct.v.01') make right or correct\n",
      "Synset('right.a.01') being or located on or directed toward the side of the body to the east when facing north\n",
      "Synset('correct.a.01') free from error; especially conforming to fact or truth\n",
      "Synset('correct.s.02') socially right or correct\n",
      "Synset('right.a.04') in conformance with justice or law or morality\n",
      "Synset('right.a.05') correct in opinion or judgment\n",
      "Synset('proper.s.04') appropriate for a condition or purpose or occasion or a person's character, needs\n",
      "Synset('right.a.07') of or belonging to the political or intellectual right\n",
      "Synset('right.s.08') in or into a satisfactory condition\n",
      "Synset('right.s.09') intended for the right hand\n",
      "Synset('correct.s.03') in accord with accepted standards of usage or procedure\n",
      "Synset('right.s.11') having the axis perpendicular to the base\n",
      "Synset('right.s.12') (of the side of cloth or clothing) facing or intended to face outward\n",
      "Synset('good.s.12') most suitable or right for a particular purpose\n",
      "Synset('veracious.s.02') precisely accurate\n",
      "Synset('right.r.01') precisely, exactly\n",
      "Synset('right.r.02') immediately\n",
      "Synset('right.r.03') exactly\n",
      "Synset('right.r.04') toward or on the right; also used figuratively\n",
      "Synset('properly.r.01') in the right manner\n",
      "Synset('right.r.06') an interjection expressing agreement\n",
      "Synset('right.r.07') completely\n",
      "Synset('mighty.r.01') (Southern regional intensive) very; to a great degree\n",
      "Synset('justly.r.02') in accordance with moral or social standards\n",
      "Synset('correctly.r.01') in an accurate manner\n"
     ]
    }
   ],
   "source": [
    "right = wordnet.synsets('right')\n",
    "for ss in right:\n",
    "    print(ss, ss.definition())"
   ]
  },
  {
   "cell_type": "markdown",
   "metadata": {},
   "source": [
    "<b>2) Найти определение для лексемы right в значении (а) \"право (человека)\" и в значении (b) \"право (направление)\"</b>"
   ]
  },
  {
   "cell_type": "code",
   "execution_count": 11,
   "metadata": {
    "scrolled": true
   },
   "outputs": [
    {
     "name": "stdout",
     "output_type": "stream",
     "text": [
      "Synset('right.n.01') an abstract idea of that which is due to a person or governmental body by law or tradition or nature; it is something that nobody can take away\"\n",
      "Synset('right.n.02') location near or direction toward the right side; i.e. the side to the south when a person or object faces east\n"
     ]
    }
   ],
   "source": [
    "print(right[0], right[0].definition())\n",
    "print(right[1], right[1].definition())"
   ]
  },
  {
   "cell_type": "markdown",
   "metadata": {},
   "source": [
    "<b>3) Найдите два произвольных контекста для слова right в значениях (a) \"право (человека)\" и (b) \"право (направление)\"; продемонстрируйте на них действие алгоритма Леска для разрешения неоднозначности</b>"
   ]
  },
  {
   "cell_type": "code",
   "execution_count": 14,
   "metadata": {},
   "outputs": [
    {
     "name": "stdout",
     "output_type": "stream",
     "text": [
      "['You', 'have', 'a', 'right', 'to', 'say', 'what', 'you', 'please']\n",
      "['You', 'need', 'to', 'go', 'straight', 'down', 'the', 'hall', 'and', 'then', 'turn', 'to', 'the', 'right']\n"
     ]
    }
   ],
   "source": [
    "sent1 = 'You have a right to say what you please.'\n",
    "sent2 = 'You need to go straight down the hall and then turn to the right.'\n",
    "sent1_tokens = [word.strip('.,') for word in sent1.split(' ')]\n",
    "sent2_tokens = [word.strip('.,') for word in sent2.split(' ')]\n",
    "print(sent1_tokens)\n",
    "print(sent2_tokens)"
   ]
  },
  {
   "cell_type": "code",
   "execution_count": 15,
   "metadata": {},
   "outputs": [
    {
     "name": "stdout",
     "output_type": "stream",
     "text": [
      "location near or direction toward the right side; i.e. the side to the south when a person or object faces east\n",
      "location near or direction toward the right side; i.e. the side to the south when a person or object faces east\n"
     ]
    }
   ],
   "source": [
    "from nltk.wsd import lesk\n",
    "print(lesk(sent1_tokens, 'right').definition())\n",
    "print(lesk(sent2_tokens, 'right').definition())"
   ]
  },
  {
   "cell_type": "markdown",
   "metadata": {},
   "source": [
    "Алгоритм Леска ошибся в первом случае. Попробуем ограничить часть речи существительными."
   ]
  },
  {
   "cell_type": "code",
   "execution_count": 16,
   "metadata": {},
   "outputs": [
    {
     "name": "stdout",
     "output_type": "stream",
     "text": [
      "location near or direction toward the right side; i.e. the side to the south when a person or object faces east\n",
      "location near or direction toward the right side; i.e. the side to the south when a person or object faces east\n"
     ]
    }
   ],
   "source": [
    "print(lesk(sent1_tokens, 'right', 'n').definition())\n",
    "print(lesk(sent2_tokens, 'right', 'n').definition())"
   ]
  },
  {
   "cell_type": "markdown",
   "metadata": {},
   "source": [
    "Не помогло :("
   ]
  },
  {
   "cell_type": "markdown",
   "metadata": {},
   "source": [
    "<b>4) Найдите гиперонимы для значения (a) и гиперонимы для значения (b)</b>"
   ]
  },
  {
   "cell_type": "code",
   "execution_count": 49,
   "metadata": {},
   "outputs": [
    {
     "name": "stdout",
     "output_type": "stream",
     "text": [
      "Synset('abstraction.n.01') a concept or idea not associated with any specific instance\n",
      "Synset('position.n.01') the particular portion of space occupied by something\n"
     ]
    }
   ],
   "source": [
    "for ss in right[0].hypernyms():\n",
    "    print(ss, ss.definition())\n",
    "for ss in right[1].hypernyms():\n",
    "    print(ss, ss.definition())"
   ]
  },
  {
   "cell_type": "markdown",
   "metadata": {},
   "source": [
    "<b>5) Вычислите наименьшее расстояние между значением right \"право (человека)\" и значениями лексемы industry, а также right \"право (направление)\" и значениями лексемы leaf.\n",
    "Найти min (d(plant: \"право (человека)\", industry), d(plant: \"право (человека)\", leaf)), а также min (d(plant: \"право (направление)\", industry), d(plant: \"право (направление)\", leaf))</b>"
   ]
  },
  {
   "cell_type": "code",
   "execution_count": 20,
   "metadata": {
    "scrolled": true
   },
   "outputs": [
    {
     "name": "stdout",
     "output_type": "stream",
     "text": [
      "min d(right: \"право (человека)\", freedom): 10\n",
      "closest lemma definition: the condition of being free; the power to act or speak or think without externally imposed restraints\n",
      "\n",
      "min d(right: \"право (человека)\", direction): 8\n",
      "closest lemma definition: a general course along which something has a tendency to develop\n",
      "\n",
      "min d(right: \"право (направление)\", freedom): 10\n",
      "closest lemma definition: the condition of being free; the power to act or speak or think without externally imposed restraints\n",
      "\n",
      "min d(right: \"право (направление)\", direction): 6\n",
      "closest lemma definition: a line leading to a place or point\n",
      "\n",
      "min (d(right: \"право (человека)\", freedom), d(right: \"право (человека)\", direction)): 8\n",
      "min (d(right: \"право (направление)\", freedom), d(right: \"право (направление)\", direction)): 6\n"
     ]
    }
   ],
   "source": [
    "freedom = wordnet.synsets('freedom')\n",
    "direction = wordnet.synsets('direction')\n",
    "\n",
    "def get_dist_sim(ss1, lexeme):\n",
    "    distances = []\n",
    "    similarities = []\n",
    "    for ss2 in lexeme:\n",
    "        dist = ss1.shortest_path_distance(ss2)\n",
    "        if dist is not None:\n",
    "            distances.append(dist)\n",
    "            sim = ss1.path_similarity(ss2)\n",
    "            similarities.append(sim)\n",
    "    return distances, similarities\n",
    "\n",
    "# min d(right: \"право (человека)\", freedom)\n",
    "dist1 = get_dist_sim(right[0], freedom)[0]\n",
    "print('min d(right: \"право (человека)\", freedom): {}'.format(min(dist1)))\n",
    "print('closest lemma definition: {}\\n'.format(freedom[dist1.index(min(dist1))].definition()))\n",
    "\n",
    "# min d(right: \"право (человека)\", direction)\n",
    "dist2 = get_dist_sim(right[0], direction)[0]\n",
    "print('min d(right: \"право (человека)\", direction): {}'.format(min(dist2)))\n",
    "print('closest lemma definition: {}\\n'.format(direction[dist2.index(min(dist2))].definition()))\n",
    "\n",
    "# min d(right: \"право (направление)\", freedom)\n",
    "dist3 = get_dist_sim(right[1], freedom)[0]\n",
    "print('min d(right: \"право (направление)\", freedom): {}'.format(min(dist3)))\n",
    "print('closest lemma definition: {}\\n'.format(freedom[dist3.index(min(dist3))].definition()))\n",
    "\n",
    "# min d(right: \"право (направление)\", direction)\n",
    "dist4 = get_dist_sim(right[1], direction)[0]\n",
    "print('min d(right: \"право (направление)\", direction): {}'.format(min(dist4)))\n",
    "print('closest lemma definition: {}\\n'.format(direction[dist4.index(min(dist4))].definition()))\n",
    "\n",
    "print('min (d(right: \"право (человека)\", freedom), d(right: \"право (человека)\", direction)): {}'.format(min(min(dist1), min(dist2))))\n",
    "print('min (d(right: \"право (направление)\", freedom), d(right: \"право (направление)\", direction)): {}'.format(min(min(dist3), min(dist4))))"
   ]
  },
  {
   "cell_type": "markdown",
   "metadata": {},
   "source": [
    "Кратчайшее расстояние от права (человека) до freedom - 10, до direction - 8. Получается, что до direction расстояние короче, что кажется странным. Но если посмотреть на определение direction в этом случае, то вполне логично.\n",
    "\n",
    "Кратчайшее расстояние от права (направления) до freedom - 10, до direction - 6. До direction расстояние короче, слава богу.\n",
    "\n",
    "Если имелось в виду посчитать не расстояние, а сходство путей на основе кратчайшего расстояния (минимальный путь --> максимальное сходство), вот оно:"
   ]
  },
  {
   "cell_type": "code",
   "execution_count": 22,
   "metadata": {},
   "outputs": [
    {
     "name": "stdout",
     "output_type": "stream",
     "text": [
      "max s(right: \"право (человека)\", freedom): 0.09090909090909091\n",
      "closest lemma definition: the condition of being free; the power to act or speak or think without externally imposed restraints\n",
      "\n",
      "max s(right: \"право (человека)\", direction): 0.1111111111111111\n",
      "closest lemma definition: a general course along which something has a tendency to develop\n",
      "\n",
      "max s(right: \"право (направление)\", freedom): 0.07692307692307693\n",
      "closest lemma definition: the condition of being free; the power to act or speak or think without externally imposed restraints\n",
      "\n",
      "max s(right: \"право (направление)\", direction): 0.14285714285714285\n",
      "closest lemma definition: a line leading to a place or point\n",
      "\n",
      "max (s(right: \"право (человека)\", freedom), s(right: \"право (человека)\", direction)): 0.1111111111111111\n",
      "max (s(right: \"право (направление)\", freedom), s(right: \"право (направление)\", direction)): 0.14285714285714285\n"
     ]
    }
   ],
   "source": [
    "# max s(right: \"право (человека)\", freedom)\n",
    "sim1 = get_dist_sim(right[0], freedom)[1]\n",
    "print('max s(right: \"право (человека)\", freedom): {}'.format(max(sim1)))\n",
    "print('closest lemma definition: {}\\n'.format(freedom[sim1.index(max(sim1))].definition()))\n",
    "\n",
    "# max s(right: \"право (человека)\", direction)\n",
    "sim2 = get_dist_sim(right[0], direction)[1]\n",
    "print('max s(right: \"право (человека)\", direction): {}'.format(max(sim2)))\n",
    "print('closest lemma definition: {}\\n'.format(direction[sim2.index(max(sim2))].definition()))\n",
    "\n",
    "# max s(right: \"право (направление)\", freedom)\n",
    "sim3 = get_dist_sim(right[1], freedom)[1]\n",
    "print('max s(right: \"право (направление)\", freedom): {}'.format(min(sim3)))\n",
    "print('closest lemma definition: {}\\n'.format(freedom[sim3.index(max(sim3))].definition()))\n",
    "\n",
    "# max s(right: \"право (направление)\", direction)\n",
    "sim4 = get_dist_sim(right[1], direction)[1]\n",
    "print('max s(right: \"право (направление)\", direction): {}'.format(max(sim4)))\n",
    "print('closest lemma definition: {}\\n'.format(direction[sim4.index(max(sim4))].definition()))\n",
    "\n",
    "print('max (s(right: \"право (человека)\", freedom), s(right: \"право (человека)\", direction)): {}'.format(max(max(sim1), max(sim2))))\n",
    "print('max (s(right: \"право (направление)\", freedom), s(right: \"право (направление)\", direction)): {}'.format(max(max(sim3), max(sim4))))"
   ]
  },
  {
   "cell_type": "markdown",
   "metadata": {},
   "source": [
    "Результат тот же (что ожидаемо, потому что используется фактически одна и та же мера). И первое, и второе ближе к direction.\n",
    "\n",
    "<b>6) Вычислить двумя разными способами расстояние:\n",
    "d(right: \"право (человека)\", privilege) и d(organism, whole)\n",
    "Есть ли разница в расстояниях? Какое из расстояний, по Вашему мнению, в лучшей степени отражает интуитивное представление о семантчиеской близости слов?</b>\n",
    "\n",
    "А вот здесь же точно речь идет о сходстве/близости значений, а не о стандартном расстоянии? (Потому что стандартное расстояние - кратчайший путь - трудно считать несколькими способами.)\n"
   ]
  },
  {
   "cell_type": "code",
   "execution_count": 50,
   "metadata": {},
   "outputs": [
    {
     "name": "stdout",
     "output_type": "stream",
     "text": [
      "Synset('absolute.n.01') something that is conceived or that exists independently and not in relation to other things; something that does not depend on anything else and is beyond human control; something that is not relative\n",
      "Synset('absolute.a.01') perfect or complete or pure\n",
      "Synset('absolute.s.02') complete and without restriction or qualification; sometimes used informally as intensifiers\n",
      "Synset('absolute.s.03') not limited by law\n",
      "Synset('absolute.s.04') expressing finality with no implication of possible change\n",
      "Synset('absolute.s.05') not capable of being violated or infringed\n"
     ]
    }
   ],
   "source": [
    "absolute = wordnet.synsets(\"absolute\")\n",
    "for ss in absolute:\n",
    "    print(ss, ss.definition())"
   ]
  },
  {
   "cell_type": "markdown",
   "metadata": {},
   "source": [
    "Посчитаем близость с помощью критериев Path Similarity, Leacock-Chodorow Similarity, Wu-Palmer Similarity, Resnik Similarity, Jiang-Conrath Similarity и Lin Similarity. Для последних трех будем использовать Information Content корпуса Brown."
   ]
  },
  {
   "cell_type": "code",
   "execution_count": 51,
   "metadata": {},
   "outputs": [
    {
     "name": "stdout",
     "output_type": "stream",
     "text": [
      "0.3333333333333333\n",
      "2.538973871058276\n",
      "0.8888888888888888\n",
      "6.257652972013772\n",
      "0.1986316354068356\n",
      "0.7131329749859666\n"
     ]
    }
   ],
   "source": [
    "from nltk.corpus import wordnet_ic\n",
    "ic = wordnet_ic.ic('ic-brown.dat')\n",
    "\n",
    "print(right[0].path_similarity(absolute[0]))\n",
    "\n",
    "#Leacock-Chodorow Similarity\n",
    "print(right[0].lch_similarity(absolute[0]))\n",
    "\n",
    "#Wu-Palmer Similarity\n",
    "print(right[0].wup_similarity(absolute[0]))\n",
    "    \n",
    "#Resnik Similarity\n",
    "print(right[0].res_similarity(absolute[0], ic))\n",
    "    \n",
    "#Jiang-Conrath Similarity\n",
    "print(right[0].jcn_similarity(absolute[0], ic))\n",
    "    \n",
    "#Lin Similarity\n",
    "print(right[0].lin_similarity(absolute[0], ic))\n"
   ]
  },
  {
   "cell_type": "code",
   "execution_count": 35,
   "metadata": {},
   "outputs": [
    {
     "name": "stdout",
     "output_type": "stream",
     "text": [
      "Synset('organism.n.01') a living thing that has (or can develop) the ability to act or function independently\n",
      "Synset('organism.n.01') []\n",
      "Synset('organism.n.02') a system considered analogous in structure or function to a living body\n",
      "Synset('organism.n.02') ['the social organism']\n"
     ]
    }
   ],
   "source": [
    "organism = wordnet.synsets('organism')\n",
    "for ss in organism:\n",
    "    print(ss, ss.definition())\n",
    "    print(ss, ss.examples())"
   ]
  },
  {
   "cell_type": "code",
   "execution_count": 36,
   "metadata": {},
   "outputs": [
    {
     "name": "stdout",
     "output_type": "stream",
     "text": [
      "Synset('whole.n.01') all of something including all its component elements or parts\n",
      "Synset('whole.n.01') ['Europe considered as a whole', 'the whole of American literature']\n",
      "Synset('whole.n.02') an assemblage of parts that is regarded as a single entity\n",
      "Synset('whole.n.02') ['how big is that part compared to the whole?', 'the team is a unit']\n"
     ]
    }
   ],
   "source": [
    "whole = wordnet.synsets('whole', 'n')\n",
    "for ss in whole:\n",
    "    print(ss, ss.definition())\n",
    "    print(ss, ss.examples())"
   ]
  },
  {
   "cell_type": "code",
   "execution_count": 37,
   "metadata": {},
   "outputs": [
    {
     "name": "stdout",
     "output_type": "stream",
     "text": [
      "a living thing that has (or can develop) the ability to act or function independently\n",
      "all of something including all its component elements or parts\n",
      "0.07692307692307693\n",
      "1.072636802264849\n",
      "0.14285714285714285\n",
      "-0.0\n",
      "0.11927453545173074\n",
      "-0.0\n",
      "an assemblage of parts that is regarded as a single entity\n",
      "0.3333333333333333\n",
      "2.538973871058276\n",
      "0.8\n",
      "1.5318337432196856\n",
      "1.4444255924181877\n",
      "0.8156763478002892\n",
      "a system considered analogous in structure or function to a living body\n",
      "all of something including all its component elements or parts\n",
      "0.1\n",
      "1.3350010667323402\n",
      "0.3076923076923077\n",
      "0.5962292078977726\n",
      "0.05928363701403374\n",
      "0.0660256991738309\n",
      "an assemblage of parts that is regarded as a single entity\n",
      "0.125\n",
      "1.55814461804655\n",
      "0.2222222222222222\n",
      "-0.0\n",
      "0.07444639262208605\n",
      "-0.0\n"
     ]
    }
   ],
   "source": [
    "for ss1 in organism:\n",
    "    print(ss1.definition())\n",
    "    for ss2 in whole:\n",
    "        print(ss2.definition())\n",
    "        print(ss1.path_similarity(ss2))\n",
    "\n",
    "        #Leacock-Chodorow Similarity\n",
    "        print(ss1.lch_similarity(ss2))\n",
    "\n",
    "        #Wu-Palmer Similarity\n",
    "        print(ss1.wup_similarity(ss2))\n",
    "\n",
    "        #Resnik Similarity\n",
    "        print(ss1.res_similarity(ss2, ic))\n",
    "\n",
    "        #Jiang-Conrath Similarity\n",
    "        print(ss1.jcn_similarity(ss2, ic))\n",
    "\n",
    "        #Lin Similarity\n",
    "        print(ss1.lin_similarity(ss2, ic))"
   ]
  },
  {
   "cell_type": "markdown",
   "metadata": {},
   "source": [
    "<style type=\"text/css\">\n",
    "\ttable.tableizer-table {\n",
    "\t\tfont-size: 12px;\n",
    "\t\tborder: 1px solid #CCC; \n",
    "\t\tfont-family: Arial, Helvetica, sans-serif;\n",
    "\t} \n",
    "\t.tableizer-table td {\n",
    "\t\tpadding: 4px;\n",
    "\t\tmargin: 3px;\n",
    "\t\tborder: 1px solid #CCC;\n",
    "\t}\n",
    "\t.tableizer-table th {\n",
    "\t\tbackground-color: #104E8B; \n",
    "\t\tcolor: #FFF;\n",
    "\t\tfont-weight: bold;\n",
    "\t}\n",
    "</style>\n",
    "<table class=\"tableizer-table\">\n",
    "<thead><tr class=\"tableizer-firstrow\"><th>Similarity Index</th><th>right(1)/absolute</th><th>a living thing / all of something</th><th>a living thing / an assemblage</th><th>a system / all of something</th><th>a system / an assemblage</th></tr></thead><tbody>\n",
    " <tr><td>Path Similarity</td><td>0.3333333333333333</td><td>0.07692307692</td><td>0.3333333333</td><td>0.1</td><td>0.125</td></tr>\n",
    " <tr><td>Leacock-Chodorow Similarity</td><td>2.538973871058276</td><td>1.072636802</td><td>2.538973871</td><td>1.335001067</td><td>1.558144618</td></tr>\n",
    " <tr><td>Wu-Palmer Similarity</td><td>0.8888888888888888</td><td>0.1428571429</td><td>0.8</td><td>0.3076923077</td><td>0.2222222222</td></tr>\n",
    " <tr><td>Resnik Similarity</td><td>6.257652972013772</td><td>0</td><td>1.531833743</td><td>0.5962292079</td><td>0</td></tr>\n",
    " <tr><td>Jiang-Conrath Similarity</td><td>0.1986316354068356</td><td>0.1192745355</td><td>1.444425592</td><td>0.05928363701</td><td>0.07444639262</td></tr>\n",
    " <tr><td>Lin Similarity</td><td>0.7131329749859666</td><td>0</td><td>0.8156763478</td><td>0.06602569917</td><td>0</td></tr>\n",
    "</tbody></table>"
   ]
  },
  {
   "cell_type": "markdown",
   "metadata": {},
   "source": [
    "Absolute является когипонимом right, так что индексы сходства выше.\n",
    "\n",
    "Интуитивно кажется, что оба значения организма (a living thing that has (or can develop) the ability to act or function independently; a system considered analogous in structure or function to a living body) должны быть больше похожи на второе значение целого (an assemblage of parts that is regarded as a single entity), чем на первое (all of something including all its component elements or parts). То есть четвертый и шестой столбцы в таблице должны быть больше, чем третий и пятый. Хотя второе значение организма и первое значение целого тоже близки.\n",
    "\n",
    "В четвертом столбце действительно самые большие индексы среди организма/целого. Только по последним двум индексам эта пара превосходит и right/absolute. \n",
    "\n",
    "Показатели в шестом же столбце больше третьего и пятого только для первых двух индексов (по Wu-Palmer Similarity разница небольшая). Первые два индекса, кстати, дают более или менее пропорциональные величины, и сравнение по ним дает одинаковые результаты (это значит, что глубина наших значений в данном случае не влияет на результат).\n",
    "\n",
    "Если учитывать всё сразу, индексы не очень отражают интуитивное представление о близости слов, а видимо довольно высоки из-за общего гиперонима abstract."
   ]
  },
  {
   "cell_type": "code",
   "execution_count": null,
   "metadata": {},
   "outputs": [],
   "source": []
  }
 ],
 "metadata": {
  "kernelspec": {
   "display_name": "Python 3",
   "language": "python",
   "name": "python3"
  },
  "language_info": {
   "codemirror_mode": {
    "name": "ipython",
    "version": 3
   },
   "file_extension": ".py",
   "mimetype": "text/x-python",
   "name": "python",
   "nbconvert_exporter": "python",
   "pygments_lexer": "ipython3",
   "version": "3.5.3"
  }
 },
 "nbformat": 4,
 "nbformat_minor": 1
}
